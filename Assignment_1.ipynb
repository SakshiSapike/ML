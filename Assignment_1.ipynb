{
 "cells": [
  {
   "cell_type": "code",
   "execution_count": 26,
   "id": "c539fb49",
   "metadata": {},
   "outputs": [
    {
     "name": "stdout",
     "output_type": "stream",
     "text": [
      "<class 'pandas.core.frame.DataFrame'>\n",
      "RangeIndex: 150 entries, 0 to 149\n",
      "Data columns (total 6 columns):\n",
      " #   Column         Non-Null Count  Dtype  \n",
      "---  ------         --------------  -----  \n",
      " 0   Id             150 non-null    int64  \n",
      " 1   SepalLengthCm  150 non-null    float64\n",
      " 2   SepalWidthCm   150 non-null    float64\n",
      " 3   PetalLengthCm  150 non-null    float64\n",
      " 4   PetalWidthCm   150 non-null    float64\n",
      " 5   Species        150 non-null    object \n",
      "dtypes: float64(4), int64(1), object(1)\n",
      "memory usage: 7.2+ KB\n",
      "None\n"
     ]
    }
   ],
   "source": [
    "import pandas as pd\n",
    "\n",
    "df = pd.read_csv('Iris.csv')\n",
    "print(df.info())"
   ]
  },
  {
   "cell_type": "code",
   "execution_count": 27,
   "id": "9297638f",
   "metadata": {},
   "outputs": [
    {
     "name": "stdout",
     "output_type": "stream",
     "text": [
      "               Id  SepalLengthCm  SepalWidthCm  PetalLengthCm  PetalWidthCm\n",
      "count  150.000000     150.000000    150.000000     150.000000    150.000000\n",
      "mean    75.500000       5.843333      3.054000       3.758667      1.198667\n",
      "std     43.445368       0.828066      0.433594       1.764420      0.763161\n",
      "min      1.000000       4.300000      2.000000       1.000000      0.100000\n",
      "25%     38.250000       5.100000      2.800000       1.600000      0.300000\n",
      "50%     75.500000       5.800000      3.000000       4.350000      1.300000\n",
      "75%    112.750000       6.400000      3.300000       5.100000      1.800000\n",
      "max    150.000000       7.900000      4.400000       6.900000      2.500000\n"
     ]
    }
   ],
   "source": [
    "import pandas as pd\n",
    "\n",
    "df = pd.read_csv('Iris.csv')\n",
    "print(df.describe())"
   ]
  },
  {
   "cell_type": "code",
   "execution_count": 28,
   "id": "e2eef8d4",
   "metadata": {},
   "outputs": [
    {
     "name": "stdout",
     "output_type": "stream",
     "text": [
      "   Id  SepalLengthCm  SepalWidthCm  PetalLengthCm  PetalWidthCm      Species\n",
      "0   1            5.1           3.5            1.4           0.2  Iris-setosa\n",
      "1   2            4.9           3.0            1.4           0.2  Iris-setosa\n",
      "2   3            4.7           3.2            1.3           0.2  Iris-setosa\n",
      "3   4            4.6           3.1            1.5           0.2  Iris-setosa\n",
      "4   5            5.0           3.6            1.4           0.2  Iris-setosa\n"
     ]
    }
   ],
   "source": [
    "import pandas as pd\n",
    "\n",
    "df = pd.read_csv('Iris.csv')\n",
    "print(df.head())"
   ]
  },
  {
   "cell_type": "code",
   "execution_count": 29,
   "id": "5e5e5aed",
   "metadata": {},
   "outputs": [
    {
     "name": "stdout",
     "output_type": "stream",
     "text": [
      "    Id  SepalLengthCm  SepalWidthCm  PetalLengthCm  PetalWidthCm      Species\n",
      "0    1            5.1           3.5            1.4           0.2  Iris-setosa\n",
      "1    2            4.9           3.0            1.4           0.2  Iris-setosa\n",
      "2    3            4.7           3.2            1.3           0.2  Iris-setosa\n",
      "3    4            4.6           3.1            1.5           0.2  Iris-setosa\n",
      "4    5            5.0           3.6            1.4           0.2  Iris-setosa\n",
      "5    6            5.4           3.9            1.7           0.4  Iris-setosa\n",
      "6    7            4.6           3.4            1.4           0.3  Iris-setosa\n",
      "7    8            5.0           3.4            1.5           0.2  Iris-setosa\n",
      "8    9            4.4           2.9            1.4           0.2  Iris-setosa\n",
      "9   10            4.9           3.1            1.5           0.1  Iris-setosa\n",
      "10  11            5.4           3.7            1.5           0.2  Iris-setosa\n",
      "11  12            4.8           3.4            1.6           0.2  Iris-setosa\n",
      "12  13            4.8           3.0            1.4           0.1  Iris-setosa\n",
      "13  14            4.3           3.0            1.1           0.1  Iris-setosa\n",
      "14  15            5.8           4.0            1.2           0.2  Iris-setosa\n",
      "15  16            5.7           4.4            1.5           0.4  Iris-setosa\n",
      "16  17            5.4           3.9            1.3           0.4  Iris-setosa\n",
      "17  18            5.1           3.5            1.4           0.3  Iris-setosa\n",
      "18  19            5.7           3.8            1.7           0.3  Iris-setosa\n",
      "19  20            5.1           3.8            1.5           0.3  Iris-setosa\n"
     ]
    }
   ],
   "source": [
    "import pandas as pd\n",
    "\n",
    "df = pd.read_csv('Iris.csv')\n",
    "print(df.head(20))"
   ]
  },
  {
   "cell_type": "code",
   "execution_count": 30,
   "id": "ebc12b38",
   "metadata": {},
   "outputs": [
    {
     "name": "stdout",
     "output_type": "stream",
     "text": [
      "      Id  SepalLengthCm  SepalWidthCm  PetalLengthCm  PetalWidthCm  \\\n",
      "145  146            6.7           3.0            5.2           2.3   \n",
      "146  147            6.3           2.5            5.0           1.9   \n",
      "147  148            6.5           3.0            5.2           2.0   \n",
      "148  149            6.2           3.4            5.4           2.3   \n",
      "149  150            5.9           3.0            5.1           1.8   \n",
      "\n",
      "            Species  \n",
      "145  Iris-virginica  \n",
      "146  Iris-virginica  \n",
      "147  Iris-virginica  \n",
      "148  Iris-virginica  \n",
      "149  Iris-virginica  \n"
     ]
    }
   ],
   "source": [
    "import pandas as pd\n",
    "\n",
    "df = pd.read_csv('Iris.csv')\n",
    "print(df.tail())"
   ]
  },
  {
   "cell_type": "code",
   "execution_count": 31,
   "id": "4f82fad8",
   "metadata": {},
   "outputs": [
    {
     "name": "stdout",
     "output_type": "stream",
     "text": [
      "      Id  SepalLengthCm  SepalWidthCm  PetalLengthCm  PetalWidthCm  \\\n",
      "130  131            7.4           2.8            6.1           1.9   \n",
      "131  132            7.9           3.8            6.4           2.0   \n",
      "132  133            6.4           2.8            5.6           2.2   \n",
      "133  134            6.3           2.8            5.1           1.5   \n",
      "134  135            6.1           2.6            5.6           1.4   \n",
      "135  136            7.7           3.0            6.1           2.3   \n",
      "136  137            6.3           3.4            5.6           2.4   \n",
      "137  138            6.4           3.1            5.5           1.8   \n",
      "138  139            6.0           3.0            4.8           1.8   \n",
      "139  140            6.9           3.1            5.4           2.1   \n",
      "140  141            6.7           3.1            5.6           2.4   \n",
      "141  142            6.9           3.1            5.1           2.3   \n",
      "142  143            5.8           2.7            5.1           1.9   \n",
      "143  144            6.8           3.2            5.9           2.3   \n",
      "144  145            6.7           3.3            5.7           2.5   \n",
      "145  146            6.7           3.0            5.2           2.3   \n",
      "146  147            6.3           2.5            5.0           1.9   \n",
      "147  148            6.5           3.0            5.2           2.0   \n",
      "148  149            6.2           3.4            5.4           2.3   \n",
      "149  150            5.9           3.0            5.1           1.8   \n",
      "\n",
      "            Species  \n",
      "130  Iris-virginica  \n",
      "131  Iris-virginica  \n",
      "132  Iris-virginica  \n",
      "133  Iris-virginica  \n",
      "134  Iris-virginica  \n",
      "135  Iris-virginica  \n",
      "136  Iris-virginica  \n",
      "137  Iris-virginica  \n",
      "138  Iris-virginica  \n",
      "139  Iris-virginica  \n",
      "140  Iris-virginica  \n",
      "141  Iris-virginica  \n",
      "142  Iris-virginica  \n",
      "143  Iris-virginica  \n",
      "144  Iris-virginica  \n",
      "145  Iris-virginica  \n",
      "146  Iris-virginica  \n",
      "147  Iris-virginica  \n",
      "148  Iris-virginica  \n",
      "149  Iris-virginica  \n"
     ]
    }
   ],
   "source": [
    "import pandas as pd\n",
    "\n",
    "df = pd.read_csv('Iris.csv')\n",
    "print(df.tail(20))"
   ]
  },
  {
   "cell_type": "code",
   "execution_count": 32,
   "id": "dda447c8",
   "metadata": {},
   "outputs": [
    {
     "name": "stdout",
     "output_type": "stream",
     "text": [
      "Id                 int64\n",
      "SepalLengthCm    float64\n",
      "SepalWidthCm     float64\n",
      "PetalLengthCm    float64\n",
      "PetalWidthCm     float64\n",
      "Species           object\n",
      "dtype: object\n"
     ]
    }
   ],
   "source": [
    "import pandas as pd\n",
    "\n",
    "df = pd.read_csv('Iris.csv')\n",
    "print(df.dtypes)"
   ]
  },
  {
   "cell_type": "code",
   "execution_count": 33,
   "id": "263b8356",
   "metadata": {},
   "outputs": [
    {
     "name": "stdout",
     "output_type": "stream",
     "text": [
      "0\n"
     ]
    }
   ],
   "source": [
    "import pandas as pd\n",
    "\n",
    "df = pd.read_csv('Iris.csv')\n",
    "tnv=   df.isnull().sum().sum()\n",
    "print(tnv)"
   ]
  },
  {
   "cell_type": "code",
   "execution_count": 34,
   "id": "1c7a165e",
   "metadata": {},
   "outputs": [
    {
     "name": "stdout",
     "output_type": "stream",
     "text": [
      "        Id  SepalLengthCm  SepalWidthCm  PetalLengthCm  PetalWidthCm  Species\n",
      "0    False          False         False          False         False    False\n",
      "1    False          False         False          False         False    False\n",
      "2    False          False         False          False         False    False\n",
      "3    False          False         False          False         False    False\n",
      "4    False          False         False          False         False    False\n",
      "..     ...            ...           ...            ...           ...      ...\n",
      "145  False          False         False          False         False    False\n",
      "146  False          False         False          False         False    False\n",
      "147  False          False         False          False         False    False\n",
      "148  False          False         False          False         False    False\n",
      "149  False          False         False          False         False    False\n",
      "\n",
      "[150 rows x 6 columns]\n"
     ]
    }
   ],
   "source": [
    "import pandas as pd\n",
    "\n",
    "df = pd.read_csv('Iris.csv')\n",
    "tnv= df.isna()\n",
    "print(tnv)"
   ]
  },
  {
   "cell_type": "code",
   "execution_count": 35,
   "id": "bc328de9",
   "metadata": {},
   "outputs": [
    {
     "name": "stdout",
     "output_type": "stream",
     "text": [
      "     Serialno  SepalLengthCm  SepalWidthCm  PetalLengthCm  PetalWidthCm  \\\n",
      "0           1            5.1           3.5            1.4           0.2   \n",
      "1           2            4.9           3.0            1.4           0.2   \n",
      "2           3            4.7           3.2            1.3           0.2   \n",
      "3           4            4.6           3.1            1.5           0.2   \n",
      "4           5            5.0           3.6            1.4           0.2   \n",
      "..        ...            ...           ...            ...           ...   \n",
      "145       146            6.7           3.0            5.2           2.3   \n",
      "146       147            6.3           2.5            5.0           1.9   \n",
      "147       148            6.5           3.0            5.2           2.0   \n",
      "148       149            6.2           3.4            5.4           2.3   \n",
      "149       150            5.9           3.0            5.1           1.8   \n",
      "\n",
      "            Species  \n",
      "0       Iris-setosa  \n",
      "1       Iris-setosa  \n",
      "2       Iris-setosa  \n",
      "3       Iris-setosa  \n",
      "4       Iris-setosa  \n",
      "..              ...  \n",
      "145  Iris-virginica  \n",
      "146  Iris-virginica  \n",
      "147  Iris-virginica  \n",
      "148  Iris-virginica  \n",
      "149  Iris-virginica  \n",
      "\n",
      "[150 rows x 6 columns]\n"
     ]
    }
   ],
   "source": [
    "import pandas as pd\n",
    "\n",
    "df = pd.read_csv('Iris.csv')\n",
    "df_renamed = df.rename(columns={'Id': 'Serialno'})\n",
    "print(df_renamed)"
   ]
  },
  {
   "cell_type": "code",
   "execution_count": 36,
   "id": "f09e0b9e",
   "metadata": {},
   "outputs": [
    {
     "name": "stdout",
     "output_type": "stream",
     "text": [
      "     Serialno  SLC  SWC  PetalLengthCm  PetalWidthCm         Species\n",
      "0           1  5.1  3.5            1.4           0.2     Iris-setosa\n",
      "1           2  4.9  3.0            1.4           0.2     Iris-setosa\n",
      "2           3  4.7  3.2            1.3           0.2     Iris-setosa\n",
      "3           4  4.6  3.1            1.5           0.2     Iris-setosa\n",
      "4           5  5.0  3.6            1.4           0.2     Iris-setosa\n",
      "..        ...  ...  ...            ...           ...             ...\n",
      "145       146  6.7  3.0            5.2           2.3  Iris-virginica\n",
      "146       147  6.3  2.5            5.0           1.9  Iris-virginica\n",
      "147       148  6.5  3.0            5.2           2.0  Iris-virginica\n",
      "148       149  6.2  3.4            5.4           2.3  Iris-virginica\n",
      "149       150  5.9  3.0            5.1           1.8  Iris-virginica\n",
      "\n",
      "[150 rows x 6 columns]\n"
     ]
    }
   ],
   "source": [
    "import pandas as pd\n",
    "\n",
    "df = pd.read_csv('Iris.csv')\n",
    "df_renamed = df.rename(columns={'Id': 'Serialno','SepalLengthCm':'SLC','SepalWidthCm':'SWC'})\n",
    "print(df_renamed)"
   ]
  },
  {
   "cell_type": "code",
   "execution_count": 37,
   "id": "3337fb1c",
   "metadata": {},
   "outputs": [
    {
     "data": {
      "image/png": "[encoded data removed]",
      "text/plain": [
       "<Figure size 640x480 with 1 Axes>"
      ]
     },
     "metadata": {},
     "output_type": "display_data"
    }
   ],
   "source": [
    "import pandas as pd\n",
    "import matplotlib.pyplot as plt\n",
    "import seaborn as sns\n",
    "\n",
    "df = pd.read_csv(\"Iris.csv\")\n",
    "plt.hist(df['SepalLengthCm'], bins=10, color='teal', edgecolor='black')\n",
    "plt.title(\"Distribution of Sepal Length\")\n",
    "plt.xlabel(\"Sepal Length (cm)\")\n",
    "plt.ylabel(\"Count\")\n",
    "plt.show()"
   ]
  },
  {
   "cell_type": "code",
   "execution_count": 38,
   "id": "e0dc41b0",
   "metadata": {},
   "outputs": [
    {
     "data": {
      "image/png": "[encoded data removed]",
      "text/plain": [
       "<Figure size 640x480 with 1 Axes>"
      ]
     },
     "metadata": {},
     "output_type": "display_data"
    }
   ],
   "source": [
    "import pandas as pd\n",
    "import matplotlib.pyplot as plt\n",
    "import seaborn as sns\n",
    "\n",
    "df = pd.read_csv(\"Iris.csv\")\n",
    "sns.scatterplot(data=df, x=\"PetalLengthCm\", y=\"PetalWidthCm\")\n",
    "plt.xlabel(\"Petal Length (cm)\")\n",
    "plt.ylabel(\"Petal Width (cm)\")\n",
    "plt.title(\"Petal Length vs Width\")\n",
    "plt.show()\n"
   ]
  }
 ],
 "metadata": {
  "kernelspec": {
   "display_name": "Python 3",
   "language": "python",
   "name": "python3"
  },
  "language_info": {
   "codemirror_mode": {
    "name": "ipython",
    "version": 3
   },
   "file_extension": ".py",
   "mimetype": "text/x-python",
   "name": "python",
   "nbconvert_exporter": "python",
   "pygments_lexer": "ipython3",
   "version": "3.13.5"
  }
 },
 "nbformat": 4,
 "nbformat_minor": 5
}
