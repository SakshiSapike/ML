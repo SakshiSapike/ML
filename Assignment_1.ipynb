{
 "cells": [
  {
   "cell_type": "code",
   "execution_count": 26,
   "id": "c539fb49",
   "metadata": {},
   "outputs": [
    {
     "name": "stdout",
     "output_type": "stream",
     "text": [
      "<class 'pandas.core.frame.DataFrame'>\n",
      "RangeIndex: 150 entries, 0 to 149\n",
      "Data columns (total 6 columns):\n",
      " #   Column         Non-Null Count  Dtype  \n",
      "---  ------         --------------  -----  \n",
      " 0   Id             150 non-null    int64  \n",
      " 1   SepalLengthCm  150 non-null    float64\n",
      " 2   SepalWidthCm   150 non-null    float64\n",
      " 3   PetalLengthCm  150 non-null    float64\n",
      " 4   PetalWidthCm   150 non-null    float64\n",
      " 5   Species        150 non-null    object \n",
      "dtypes: float64(4), int64(1), object(1)\n",
      "memory usage: 7.2+ KB\n",
      "None\n"
     ]
    }
   ],
   "source": [
    "import pandas as pd\n",
    "\n",
    "df = pd.read_csv('Iris.csv')\n",
    "print(df.info())"
   ]
  },
  {
   "cell_type": "code",
   "execution_count": 27,
   "id": "9297638f",
   "metadata": {},
   "outputs": [
    {
     "name": "stdout",
     "output_type": "stream",
     "text": [
      "               Id  SepalLengthCm  SepalWidthCm  PetalLengthCm  PetalWidthCm\n",
      "count  150.000000     150.000000    150.000000     150.000000    150.000000\n",
      "mean    75.500000       5.843333      3.054000       3.758667      1.198667\n",
      "std     43.445368       0.828066      0.433594       1.764420      0.763161\n",
      "min      1.000000       4.300000      2.000000       1.000000      0.100000\n",
      "25%     38.250000       5.100000      2.800000       1.600000      0.300000\n",
      "50%     75.500000       5.800000      3.000000       4.350000      1.300000\n",
      "75%    112.750000       6.400000      3.300000       5.100000      1.800000\n",
      "max    150.000000       7.900000      4.400000       6.900000      2.500000\n"
     ]
    }
   ],
   "source": [
    "import pandas as pd\n",
    "\n",
    "df = pd.read_csv('Iris.csv')\n",
    "print(df.describe())"
   ]
  },
  {
   "cell_type": "code",
   "execution_count": 28,
   "id": "e2eef8d4",
   "metadata": {},
   "outputs": [
    {
     "name": "stdout",
     "output_type": "stream",
     "text": [
      "   Id  SepalLengthCm  SepalWidthCm  PetalLengthCm  PetalWidthCm      Species\n",
      "0   1            5.1           3.5            1.4           0.2  Iris-setosa\n",
      "1   2            4.9           3.0            1.4           0.2  Iris-setosa\n",
      "2   3            4.7           3.2            1.3           0.2  Iris-setosa\n",
      "3   4            4.6           3.1            1.5           0.2  Iris-setosa\n",
      "4   5            5.0           3.6            1.4           0.2  Iris-setosa\n"
     ]
    }
   ],
   "source": [
    "import pandas as pd\n",
    "\n",
    "df = pd.read_csv('Iris.csv')\n",
    "print(df.head())"
   ]
  },
  {
   "cell_type": "code",
   "execution_count": 29,
   "id": "5e5e5aed",
   "metadata": {},
   "outputs": [
    {
     "name": "stdout",
     "output_type": "stream",
     "text": [
      "    Id  SepalLengthCm  SepalWidthCm  PetalLengthCm  PetalWidthCm      Species\n",
      "0    1            5.1           3.5            1.4           0.2  Iris-setosa\n",
      "1    2            4.9           3.0            1.4           0.2  Iris-setosa\n",
      "2    3            4.7           3.2            1.3           0.2  Iris-setosa\n",
      "3    4            4.6           3.1            1.5           0.2  Iris-setosa\n",
      "4    5            5.0           3.6            1.4           0.2  Iris-setosa\n",
      "5    6            5.4           3.9            1.7           0.4  Iris-setosa\n",
      "6    7            4.6           3.4            1.4           0.3  Iris-setosa\n",
      "7    8            5.0           3.4            1.5           0.2  Iris-setosa\n",
      "8    9            4.4           2.9            1.4           0.2  Iris-setosa\n",
      "9   10            4.9           3.1            1.5           0.1  Iris-setosa\n",
      "10  11            5.4           3.7            1.5           0.2  Iris-setosa\n",
      "11  12            4.8           3.4            1.6           0.2  Iris-setosa\n",
      "12  13            4.8           3.0            1.4           0.1  Iris-setosa\n",
      "13  14            4.3           3.0            1.1           0.1  Iris-setosa\n",
      "14  15            5.8           4.0            1.2           0.2  Iris-setosa\n",
      "15  16            5.7           4.4            1.5           0.4  Iris-setosa\n",
      "16  17            5.4           3.9            1.3           0.4  Iris-setosa\n",
      "17  18            5.1           3.5            1.4           0.3  Iris-setosa\n",
      "18  19            5.7           3.8            1.7           0.3  Iris-setosa\n",
      "19  20            5.1           3.8            1.5           0.3  Iris-setosa\n"
     ]
    }
   ],
   "source": [
    "import pandas as pd\n",
    "\n",
    "df = pd.read_csv('Iris.csv')\n",
    "print(df.head(20))"
   ]
  },
  {
   "cell_type": "code",
   "execution_count": null,
   "id": "a07d266f",
   "metadata": {},
   "outputs": [],
   "source": []
  },
  {
   "cell_type": "code",
   "execution_count": 30,
   "id": "ebc12b38",
   "metadata": {},
   "outputs": [
    {
     "name": "stdout",
     "output_type": "stream",
     "text": [
      "      Id  SepalLengthCm  SepalWidthCm  PetalLengthCm  PetalWidthCm  \\\n",
      "145  146            6.7           3.0            5.2           2.3   \n",
      "146  147            6.3           2.5            5.0           1.9   \n",
      "147  148            6.5           3.0            5.2           2.0   \n",
      "148  149            6.2           3.4            5.4           2.3   \n",
      "149  150            5.9           3.0            5.1           1.8   \n",
      "\n",
      "            Species  \n",
      "145  Iris-virginica  \n",
      "146  Iris-virginica  \n",
      "147  Iris-virginica  \n",
      "148  Iris-virginica  \n",
      "149  Iris-virginica  \n"
     ]
    }
   ],
   "source": [
    "import pandas as pd\n",
    "\n",
    "df = pd.read_csv('Iris.csv')\n",
    "print(df.tail())"
   ]
  },
  {
   "cell_type": "code",
   "execution_count": 31,
   "id": "4f82fad8",
   "metadata": {},
   "outputs": [
    {
     "name": "stdout",
     "output_type": "stream",
     "text": [
      "      Id  SepalLengthCm  SepalWidthCm  PetalLengthCm  PetalWidthCm  \\\n",
      "130  131            7.4           2.8            6.1           1.9   \n",
      "131  132            7.9           3.8            6.4           2.0   \n",
      "132  133            6.4           2.8            5.6           2.2   \n",
      "133  134            6.3           2.8            5.1           1.5   \n",
      "134  135            6.1           2.6            5.6           1.4   \n",
      "135  136            7.7           3.0            6.1           2.3   \n",
      "136  137            6.3           3.4            5.6           2.4   \n",
      "137  138            6.4           3.1            5.5           1.8   \n",
      "138  139            6.0           3.0            4.8           1.8   \n",
      "139  140            6.9           3.1            5.4           2.1   \n",
      "140  141            6.7           3.1            5.6           2.4   \n",
      "141  142            6.9           3.1            5.1           2.3   \n",
      "142  143            5.8           2.7            5.1           1.9   \n",
      "143  144            6.8           3.2            5.9           2.3   \n",
      "144  145            6.7           3.3            5.7           2.5   \n",
      "145  146            6.7           3.0            5.2           2.3   \n",
      "146  147            6.3           2.5            5.0           1.9   \n",
      "147  148            6.5           3.0            5.2           2.0   \n",
      "148  149            6.2           3.4            5.4           2.3   \n",
      "149  150            5.9           3.0            5.1           1.8   \n",
      "\n",
      "            Species  \n",
      "130  Iris-virginica  \n",
      "131  Iris-virginica  \n",
      "132  Iris-virginica  \n",
      "133  Iris-virginica  \n",
      "134  Iris-virginica  \n",
      "135  Iris-virginica  \n",
      "136  Iris-virginica  \n",
      "137  Iris-virginica  \n",
      "138  Iris-virginica  \n",
      "139  Iris-virginica  \n",
      "140  Iris-virginica  \n",
      "141  Iris-virginica  \n",
      "142  Iris-virginica  \n",
      "143  Iris-virginica  \n",
      "144  Iris-virginica  \n",
      "145  Iris-virginica  \n",
      "146  Iris-virginica  \n",
      "147  Iris-virginica  \n",
      "148  Iris-virginica  \n",
      "149  Iris-virginica  \n"
     ]
    }
   ],
   "source": [
    "import pandas as pd\n",
    "\n",
    "df = pd.read_csv('Iris.csv')\n",
    "print(df.tail(20))"
   ]
  },
  {
   "cell_type": "code",
   "execution_count": 32,
   "id": "dda447c8",
   "metadata": {},
   "outputs": [
    {
     "name": "stdout",
     "output_type": "stream",
     "text": [
      "Id                 int64\n",
      "SepalLengthCm    float64\n",
      "SepalWidthCm     float64\n",
      "PetalLengthCm    float64\n",
      "PetalWidthCm     float64\n",
      "Species           object\n",
      "dtype: object\n"
     ]
    }
   ],
   "source": [
    "import pandas as pd\n",
    "\n",
    "df = pd.read_csv('Iris.csv')\n",
    "print(df.dtypes)"
   ]
  },
  {
   "cell_type": "code",
   "execution_count": 1,
   "id": "263b8356",
   "metadata": {},
   "outputs": [
    {
     "name": "stdout",
     "output_type": "stream",
     "text": [
      "0\n"
     ]
    }
   ],
   "source": [
    "import pandas as pd\n",
    "\n",
    "df = pd.read_csv('Iris.csv')\n",
    "tnv=   df.isnull().sum().sum()\n",
    "print(tnv)"
   ]
  },
  {
   "cell_type": "code",
   "execution_count": 34,
   "id": "1c7a165e",
   "metadata": {},
   "outputs": [
    {
     "name": "stdout",
     "output_type": "stream",
     "text": [
      "        Id  SepalLengthCm  SepalWidthCm  PetalLengthCm  PetalWidthCm  Species\n",
      "0    False          False         False          False         False    False\n",
      "1    False          False         False          False         False    False\n",
      "2    False          False         False          False         False    False\n",
      "3    False          False         False          False         False    False\n",
      "4    False          False         False          False         False    False\n",
      "..     ...            ...           ...            ...           ...      ...\n",
      "145  False          False         False          False         False    False\n",
      "146  False          False         False          False         False    False\n",
      "147  False          False         False          False         False    False\n",
      "148  False          False         False          False         False    False\n",
      "149  False          False         False          False         False    False\n",
      "\n",
      "[150 rows x 6 columns]\n"
     ]
    }
   ],
   "source": [
    "import pandas as pd\n",
    "\n",
    "df = pd.read_csv('Iris.csv')\n",
    "tnv= df.isna()\n",
    "print(tnv)"
   ]
  },
  {
   "cell_type": "code",
   "execution_count": 35,
   "id": "bc328de9",
   "metadata": {},
   "outputs": [
    {
     "name": "stdout",
     "output_type": "stream",
     "text": [
      "     Serialno  SepalLengthCm  SepalWidthCm  PetalLengthCm  PetalWidthCm  \\\n",
      "0           1            5.1           3.5            1.4           0.2   \n",
      "1           2            4.9           3.0            1.4           0.2   \n",
      "2           3            4.7           3.2            1.3           0.2   \n",
      "3           4            4.6           3.1            1.5           0.2   \n",
      "4           5            5.0           3.6            1.4           0.2   \n",
      "..        ...            ...           ...            ...           ...   \n",
      "145       146            6.7           3.0            5.2           2.3   \n",
      "146       147            6.3           2.5            5.0           1.9   \n",
      "147       148            6.5           3.0            5.2           2.0   \n",
      "148       149            6.2           3.4            5.4           2.3   \n",
      "149       150            5.9           3.0            5.1           1.8   \n",
      "\n",
      "            Species  \n",
      "0       Iris-setosa  \n",
      "1       Iris-setosa  \n",
      "2       Iris-setosa  \n",
      "3       Iris-setosa  \n",
      "4       Iris-setosa  \n",
      "..              ...  \n",
      "145  Iris-virginica  \n",
      "146  Iris-virginica  \n",
      "147  Iris-virginica  \n",
      "148  Iris-virginica  \n",
      "149  Iris-virginica  \n",
      "\n",
      "[150 rows x 6 columns]\n"
     ]
    }
   ],
   "source": [
    "import pandas as pd\n",
    "\n",
    "df = pd.read_csv('Iris.csv')\n",
    "df_renamed = df.rename(columns={'Id': 'Serialno'})\n",
    "print(df_renamed)"
   ]
  },
  {
   "cell_type": "code",
   "execution_count": 36,
   "id": "f09e0b9e",
   "metadata": {},
   "outputs": [
    {
     "name": "stdout",
     "output_type": "stream",
     "text": [
      "     Serialno  SLC  SWC  PetalLengthCm  PetalWidthCm         Species\n",
      "0           1  5.1  3.5            1.4           0.2     Iris-setosa\n",
      "1           2  4.9  3.0            1.4           0.2     Iris-setosa\n",
      "2           3  4.7  3.2            1.3           0.2     Iris-setosa\n",
      "3           4  4.6  3.1            1.5           0.2     Iris-setosa\n",
      "4           5  5.0  3.6            1.4           0.2     Iris-setosa\n",
      "..        ...  ...  ...            ...           ...             ...\n",
      "145       146  6.7  3.0            5.2           2.3  Iris-virginica\n",
      "146       147  6.3  2.5            5.0           1.9  Iris-virginica\n",
      "147       148  6.5  3.0            5.2           2.0  Iris-virginica\n",
      "148       149  6.2  3.4            5.4           2.3  Iris-virginica\n",
      "149       150  5.9  3.0            5.1           1.8  Iris-virginica\n",
      "\n",
      "[150 rows x 6 columns]\n"
     ]
    }
   ],
   "source": [
    "import pandas as pd\n",
    "\n",
    "df = pd.read_csv('Iris.csv')\n",
    "df_renamed = df.rename(columns={'Id': 'Serialno','SepalLengthCm':'SLC','SepalWidthCm':'SWC'})\n",
    "print(df_renamed)"
   ]
  },
  {
   "cell_type": "code",
   "execution_count": 37,
   "id": "3337fb1c",
   "metadata": {},
   "outputs": [
    {
     "data": {
      "image/png": "[encoded data removed]",
      "text/plain": [
       "<Figure size 640x480 with 1 Axes>"
      ]
     },
     "metadata": {},
     "output_type": "display_data"
    }
   ],
   "source": [
    "import pandas as pd\n",
    "import matplotlib.pyplot as plt\n",
    "import seaborn as sns\n",
    "\n",
    "df = pd.read_csv(\"Iris.csv\")\n",
    "plt.hist(df['SepalLengthCm'], bins=10, color='teal', edgecolor='black')\n",
    "plt.title(\"Distribution of Sepal Length\")\n",
    "plt.xlabel(\"Sepal Length (cm)\")\n",
    "plt.ylabel(\"Count\")\n",
    "plt.show()"
   ]
  },
  {
   "cell_type": "code",
   "execution_count": 38,
   "id": "e0dc41b0",
   "metadata": {},
   "outputs": [
    {
     "data": {
      "image/png": "[encoded data removed]",
      "text/plain": [
       "<Figure size 640x480 with 1 Axes>"
      ]
     },
     "metadata": {},
     "output_type": "display_data"
    }
   ],
   "source": [
    "import pandas as pd\n",
    "import matplotlib.pyplot as plt\n",
    "import seaborn as sns\n",
    "\n",
    "df = pd.read_csv(\"Iris.csv\")\n",
    "sns.scatterplot(data=df, x=\"PetalLengthCm\", y=\"PetalWidthCm\")\n",
    "plt.xlabel(\"Petal Length (cm)\")\n",
    "plt.ylabel(\"Petal Width (cm)\")\n",
    "plt.title(\"Petal Length vs Width\")\n",
    "plt.show()\n"
   ]
  },
  {
   "cell_type": "code",
   "execution_count": null,
   "id": "e0631bd6",
   "metadata": {},
   "outputs": [
    {
     "name": "stdout",
     "output_type": "stream",
     "text": [
      "Id               150\n",
      "SepalLengthCm     35\n",
      "SepalWidthCm      23\n",
      "PetalLengthCm     43\n",
      "PetalWidthCm      22\n",
      "Species            3\n",
      "dtype: int64\n"
     ]
    }
   ],
   "source": [
    "import pandas as pd\n",
    "\n",
    "df = pd.read_csv('Iris.csv')\n",
    "\n",
    "df_unique=df.nunique()\n",
    "print(df_unique)"
   ]
  },
  {
   "cell_type": "code",
   "execution_count": null,
   "id": "1dbf19c2",
   "metadata": {},
   "outputs": [
    {
     "name": "stdout",
     "output_type": "stream",
     "text": [
      "<class 'pandas.core.frame.DataFrame'>\n",
      "RangeIndex: 150 entries, 0 to 149\n",
      "Data columns (total 6 columns):\n",
      " #   Column         Non-Null Count  Dtype  \n",
      "---  ------         --------------  -----  \n",
      " 0   Id             150 non-null    int64  \n",
      " 1   SepalLengthCm  150 non-null    float64\n",
      " 2   SepalWidthCm   150 non-null    float64\n",
      " 3   PetalLengthCm  150 non-null    float64\n",
      " 4   PetalWidthCm   150 non-null    float64\n",
      " 5   Species        150 non-null    object \n",
      "dtypes: float64(4), int64(1), object(1)\n",
      "memory usage: 7.2+ KB\n",
      "None\n"
     ]
    }
   ],
   "source": [
    "import pandas as pd\n",
    "df = pd.read_csv('Iris.csv')\n",
    "df_info=df.info()\n",
    "print(df_info)"
   ]
  },
  {
   "cell_type": "code",
   "execution_count": 6,
   "id": "d7c9cccc",
   "metadata": {},
   "outputs": [
    {
     "name": "stdout",
     "output_type": "stream",
     "text": [
      "Id               0\n",
      "SepalLengthCm    0\n",
      "SepalWidthCm     0\n",
      "PetalLengthCm    0\n",
      "PetalWidthCm     0\n",
      "Species          0\n",
      "dtype: int64\n"
     ]
    }
   ],
   "source": [
    "import pandas as pd\n",
    "df = pd.read_csv('Iris.csv')\n",
    "df_null_sum=df.isnull().sum()\n",
    "print(df_null_sum)"
   ]
  },
  {
   "cell_type": "code",
   "execution_count": 8,
   "id": "908789f5",
   "metadata": {},
   "outputs": [
    {
     "name": "stdout",
     "output_type": "stream",
     "text": [
      "Id               0.0\n",
      "SepalLengthCm    0.0\n",
      "SepalWidthCm     0.0\n",
      "PetalLengthCm    0.0\n",
      "PetalWidthCm     0.0\n",
      "Species          0.0\n",
      "dtype: float64\n"
     ]
    }
   ],
   "source": [
    "import pandas as pd\n",
    "df = pd.read_csv('Iris.csv')\n",
    "df_null_sum_percentage=(df.isnull().sum()/(len(df)))*100\n",
    "print(df_null_sum_percentage)"
   ]
  },
  {
   "cell_type": "code",
   "execution_count": 10,
   "id": "9eb83ccd",
   "metadata": {},
   "outputs": [
    {
     "name": "stdout",
     "output_type": "stream",
     "text": [
      "<class 'pandas.core.frame.DataFrame'>\n",
      "RangeIndex: 150 entries, 0 to 149\n",
      "Data columns (total 5 columns):\n",
      " #   Column         Non-Null Count  Dtype  \n",
      "---  ------         --------------  -----  \n",
      " 0   SepalLengthCm  150 non-null    float64\n",
      " 1   SepalWidthCm   150 non-null    float64\n",
      " 2   PetalLengthCm  150 non-null    float64\n",
      " 3   PetalWidthCm   150 non-null    float64\n",
      " 4   Species        150 non-null    object \n",
      "dtypes: float64(4), object(1)\n",
      "memory usage: 6.0+ KB\n"
     ]
    }
   ],
   "source": [
    "import pandas as pd\n",
    "df=pd.read_csv('Iris.csv')\n",
    "data=df.drop(['Id'],axis=1)\n",
    "data.info()"
   ]
  },
  {
   "cell_type": "code",
   "execution_count": null,
   "id": "1d1fed66",
   "metadata": {},
   "outputs": [
    {
     "name": "stdout",
     "output_type": "stream",
     "text": [
      "<class 'pandas.core.frame.DataFrame'>\n",
      "RangeIndex: 301 entries, 0 to 300\n",
      "Data columns (total 9 columns):\n",
      " #   Column         Non-Null Count  Dtype  \n",
      "---  ------         --------------  -----  \n",
      " 0   Car_Name       301 non-null    object \n",
      " 1   Year           301 non-null    int64  \n",
      " 2   Selling_Price  301 non-null    float64\n",
      " 3   Present_Price  301 non-null    float64\n",
      " 4   Kms_Driven     301 non-null    int64  \n",
      " 5   Fuel_Type      301 non-null    object \n",
      " 6   Seller_Type    301 non-null    object \n",
      " 7   Transmission   301 non-null    object \n",
      " 8   Owner          301 non-null    int64  \n",
      "dtypes: float64(2), int64(3), object(4)\n",
      "memory usage: 21.3+ KB\n",
      "None\n"
     ]
    }
   ],
   "source": [
    "import pandas as pd\n",
    "df=pd.read_csv('CarData.csv')\n",
    "data=df.info()\n",
    "print(data)"
   ]
  },
  {
   "cell_type": "code",
   "execution_count": null,
   "id": "00895549",
   "metadata": {},
   "outputs": [
    {
     "name": "stdout",
     "output_type": "stream",
     "text": [
      "         Car_Name  Year  Selling_Price  Present_Price  Kms_Driven Fuel_Type  \\\n",
      "0            ritz  2014           3.35           5.59       27000    Petrol   \n",
      "1             sx4  2013           4.75           9.54       43000    Diesel   \n",
      "2            ciaz  2017           7.25           9.85        6900    Petrol   \n",
      "3         wagon r  2011           2.85           4.15        5200    Petrol   \n",
      "4           swift  2014           4.60           6.87       42450    Diesel   \n",
      "5   vitara brezza  2018           9.25           9.83        2071    Diesel   \n",
      "6            ciaz  2015           6.75           8.12       18796    Petrol   \n",
      "7         s cross  2015           6.50           8.61       33429    Diesel   \n",
      "8            ciaz  2016           8.75           8.89       20273    Diesel   \n",
      "9            ciaz  2015           7.45           8.92       42367    Diesel   \n",
      "10       alto 800  2017           2.85           3.60        2135    Petrol   \n",
      "11           ciaz  2015           6.85          10.38       51000    Diesel   \n",
      "12           ciaz  2015           7.50           9.94       15000    Petrol   \n",
      "13         ertiga  2015           6.10           7.71       26000    Petrol   \n",
      "14          dzire  2009           2.25           7.21       77427    Petrol   \n",
      "15         ertiga  2016           7.75          10.79       43000    Diesel   \n",
      "16         ertiga  2015           7.25          10.79       41678    Diesel   \n",
      "17         ertiga  2016           7.75          10.79       43000    Diesel   \n",
      "18        wagon r  2015           3.25           5.09       35500       CNG   \n",
      "19            sx4  2010           2.65           7.98       41442    Petrol   \n",
      "\n",
      "   Seller_Type Transmission  Owner  Car_Age  \n",
      "0       Dealer       Manual      0       11  \n",
      "1       Dealer       Manual      0       12  \n",
      "2       Dealer       Manual      0        8  \n",
      "3       Dealer       Manual      0       14  \n",
      "4       Dealer       Manual      0       11  \n",
      "5       Dealer       Manual      0        7  \n",
      "6       Dealer       Manual      0       10  \n",
      "7       Dealer       Manual      0       10  \n",
      "8       Dealer       Manual      0        9  \n",
      "9       Dealer       Manual      0       10  \n",
      "10      Dealer       Manual      0        8  \n",
      "11      Dealer       Manual      0       10  \n",
      "12      Dealer    Automatic      0       10  \n",
      "13      Dealer       Manual      0       10  \n",
      "14      Dealer       Manual      0       16  \n",
      "15      Dealer       Manual      0        9  \n",
      "16      Dealer       Manual      0       10  \n",
      "17      Dealer       Manual      0        9  \n",
      "18      Dealer       Manual      0       10  \n",
      "19      Dealer       Manual      0       15  \n"
     ]
    }
   ],
   "source": [
    "import pandas as pd \n",
    "from datetime import date\n",
    "df=pd.read_csv(\"CarData.csv\")\n",
    "date.today().year\n",
    "df['Car_Age']=date.today().year-df['Year']\n",
    "print(df.head(20))\n"
   ]
  },
  {
   "cell_type": "code",
   "execution_count": 1,
   "id": "7254e3fd",
   "metadata": {},
   "outputs": [
    {
     "name": "stdout",
     "output_type": "stream",
     "text": [
      "0          SwiftDzire\n",
      "1            Rapid1.5\n",
      "2       City2017-2020\n",
      "3           i20Sportz\n",
      "4            SwiftVXI\n",
      "            ...      \n",
      "8123         i20Magna\n",
      "8124        VernaCRDi\n",
      "8125       SwiftDzire\n",
      "8126        IndigoCR4\n",
      "8127        IndigoCR4\n",
      "Name: Model, Length: 8128, dtype: object\n"
     ]
    }
   ],
   "source": [
    "import pandas as pd \n",
    "df=pd.read_csv(\"CarDataSet3.csv\")\n",
    "df['Model'] = df.name.str.split().str.get(1) + df.name.str.split().str.get(2)\n",
    "print(df.Model)"
   ]
  },
  {
   "cell_type": "code",
   "execution_count": 23,
   "id": "1f64a05f",
   "metadata": {},
   "outputs": [
    {
     "name": "stdout",
     "output_type": "stream",
     "text": [
      "0        Maruti\n",
      "1         Skoda\n",
      "2         Honda\n",
      "3       Hyundai\n",
      "4        Maruti\n",
      "         ...   \n",
      "8123    Hyundai\n",
      "8124    Hyundai\n",
      "8125     Maruti\n",
      "8126       Tata\n",
      "8127       Tata\n",
      "Name: Brand, Length: 8128, dtype: object\n"
     ]
    }
   ],
   "source": [
    "import pandas as pd \n",
    "df=pd.read_csv(\"CarDataSet3.csv\")\n",
    "df['Brand'] = df.name.str.split().str.get(0)\n",
    "print(df.Brand)\n"
   ]
  },
  {
   "cell_type": "code",
   "execution_count": 37,
   "id": "28b433cd",
   "metadata": {},
   "outputs": [
    {
     "name": "stdout",
     "output_type": "stream",
     "text": [
      "               count          mean           std      min      25%      50%  \\\n",
      "Year           301.0   2013.627907      2.891554  2003.00   2012.0   2014.0   \n",
      "Selling_Price  301.0      4.661296      5.082812     0.10      0.9      3.6   \n",
      "Present_Price  301.0      7.628472      8.644115     0.32      1.2      6.4   \n",
      "Kms_Driven     301.0  36947.205980  38886.883882   500.00  15000.0  32000.0   \n",
      "Owner          301.0      0.043189      0.247915     0.00      0.0      0.0   \n",
      "\n",
      "                   75%       max  \n",
      "Year            2016.0    2018.0  \n",
      "Selling_Price      6.0      35.0  \n",
      "Present_Price      9.9      92.6  \n",
      "Kms_Driven     48767.0  500000.0  \n",
      "Owner              0.0       3.0  \n"
     ]
    }
   ],
   "source": [
    "import pandas as pd\n",
    "\n",
    "df = pd.read_csv('CarData.csv')\n",
    "dara = df.describe().T  \n",
    "print(dara)\n"
   ]
  },
  {
   "cell_type": "code",
   "execution_count": 38,
   "id": "09a541cc",
   "metadata": {},
   "outputs": [
    {
     "name": "stdout",
     "output_type": "stream",
     "text": [
      "               count unique     top freq         mean           std     min  \\\n",
      "Car_Name         301     98    city   26          NaN           NaN     NaN   \n",
      "Year           301.0    NaN     NaN  NaN  2013.627907      2.891554  2003.0   \n",
      "Selling_Price  301.0    NaN     NaN  NaN     4.661296      5.082812     0.1   \n",
      "Present_Price  301.0    NaN     NaN  NaN     7.628472      8.644115    0.32   \n",
      "Kms_Driven     301.0    NaN     NaN  NaN  36947.20598  38886.883882   500.0   \n",
      "Fuel_Type        301      3  Petrol  239          NaN           NaN     NaN   \n",
      "Seller_Type      301      2  Dealer  195          NaN           NaN     NaN   \n",
      "Transmission     301      2  Manual  261          NaN           NaN     NaN   \n",
      "Owner          301.0    NaN     NaN  NaN     0.043189      0.247915     0.0   \n",
      "\n",
      "                   25%      50%      75%       max  \n",
      "Car_Name           NaN      NaN      NaN       NaN  \n",
      "Year            2012.0   2014.0   2016.0    2018.0  \n",
      "Selling_Price      0.9      3.6      6.0      35.0  \n",
      "Present_Price      1.2      6.4      9.9      92.6  \n",
      "Kms_Driven     15000.0  32000.0  48767.0  500000.0  \n",
      "Fuel_Type          NaN      NaN      NaN       NaN  \n",
      "Seller_Type        NaN      NaN      NaN       NaN  \n",
      "Transmission       NaN      NaN      NaN       NaN  \n",
      "Owner              0.0      0.0      0.0       3.0  \n"
     ]
    }
   ],
   "source": [
    "import pandas as pd\n",
    "\n",
    "df = pd.read_csv('CarData.csv')\n",
    "dara = df.describe(include='all').T  \n",
    "print(dara)\n"
   ]
  },
  {
   "cell_type": "code",
   "execution_count": 39,
   "id": "358720b5",
   "metadata": {},
   "outputs": [
    {
     "data": {
      "image/png": "[encoded data removed]",
      "text/plain": [
       "<Figure size 640x480 with 1 Axes>"
      ]
     },
     "metadata": {},
     "output_type": "display_data"
    }
   ],
   "source": [
    "import pandas as pd\n",
    "import matplotlib.pyplot as plt\n",
    "import seaborn as sns\n",
    "\n",
    "df = pd.read_csv(\"Iris.csv\")\n",
    "plt.hist(df['SepalLengthCm'], bins=10, color='teal', edgecolor='black')\n",
    "plt.title(\"Distribution of Sepal Length\")\n",
    "plt.xlabel(\"Sepal Length (cm)\")\n",
    "plt.ylabel(\"Count\")\n",
    "plt.show()\n"
   ]
  },
  {
   "cell_type": "code",
   "execution_count": null,
   "id": "6486d8b5",
   "metadata": {},
   "outputs": [
    {
     "data": {
      "image/png": "[encoded data removed]",
      "text/plain": [
       "<Figure size 600x600 with 1 Axes>"
      ]
     },
     "metadata": {},
     "output_type": "display_data"
    }
   ],
   "source": [
    "import pandas as pd\n",
    "import matplotlib.pyplot as plt\n",
    "\n",
    "data = {\n",
    "    'Brand': ['Maruti', 'Hyundai', 'Honda', 'Toyota', 'Ford'],\n",
    "    'Count': [100, 60, 40, 30, 20]\n",
    "}\n",
    "\n",
    "df = pd.DataFrame(data)\n",
    "plt.figure(figsize=(6, 6))\n",
    "plt.pie(df['Count'], labels=df['Brand'], autopct='%1.1f%%', startangle=140)\n",
    "plt.title('Car Brand Distribution - Pie Chart')\n",
    "plt.axis('equal')  \n",
    "plt.show()\n"
   ]
  },
  {
   "cell_type": "code",
   "execution_count": 41,
   "id": "b7f176e3",
   "metadata": {},
   "outputs": [
    {
     "data": {
      "image/png": "[encoded data removed]",
      "text/plain": [
       "<Figure size 800x500 with 1 Axes>"
      ]
     },
     "metadata": {},
     "output_type": "display_data"
    }
   ],
   "source": [
    "import pandas as pd\n",
    "import matplotlib.pyplot as plt\n",
    "\n",
    "data = {\n",
    "    'Brand': ['Maruti', 'Hyundai', 'Honda', 'Toyota', 'Ford'],\n",
    "    'Count': [100, 60, 40, 30, 20]\n",
    "}\n",
    "\n",
    "df = pd.DataFrame(data)\n",
    "plt.figure(figsize=(8, 5))\n",
    "plt.bar(df['Brand'], df['Count'], color='skyblue')\n",
    "plt.title('Car Brand Distribution - Bar Graph')\n",
    "plt.xlabel('Brand')\n",
    "plt.ylabel('Count')\n",
    "plt.grid(axis='y', linestyle='--', alpha=0.7)\n",
    "plt.show()"
   ]
  }
 ],
 "metadata": {
  "kernelspec": {
   "display_name": "Python 3",
   "language": "python",
   "name": "python3"
  },
  "language_info": {
   "codemirror_mode": {
    "name": "ipython",
    "version": 3
   },
   "file_extension": ".py",
   "mimetype": "text/x-python",
   "name": "python",
   "nbconvert_exporter": "python",
   "pygments_lexer": "ipython3",
   "version": "3.13.5"
  }
 },
 "nbformat": 4,
 "nbformat_minor": 5
}
